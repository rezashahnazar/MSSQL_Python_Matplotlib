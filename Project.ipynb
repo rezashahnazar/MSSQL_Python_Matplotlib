{
 "cells": [
  {
   "cell_type": "code",
   "execution_count": 1,
   "id": "c3992288",
   "metadata": {},
   "outputs": [],
   "source": [
    "from sqlalchemy.engine import URL\n",
    "from sqlalchemy import create_engine\n",
    "import pandas as pd"
   ]
  },
  {
   "cell_type": "code",
   "execution_count": 2,
   "id": "04e4509b",
   "metadata": {},
   "outputs": [
    {
     "name": "stdout",
     "output_type": "stream",
     "text": [
      "mssql+pyodbc://?odbc_connect=DRIVER%3D%7BSQL+Server+Native+Client+11.0%7D%3BSERVER%3DDESKTOP-2EFE3FO%3BDATABASE%3DKCC%3Btrusted_connection%3Dyes\n"
     ]
    }
   ],
   "source": [
    "con_string = \"DRIVER={SQL Server Native Client 11.0};SERVER=DESKTOP-2EFE3FO;DATABASE=KCC;trusted_connection=yes\"\n",
    "con_URL = URL.create(\"mssql+pyodbc\", query={\"odbc_connect\": con_string})\n",
    "print(con_URL)\n",
    "engine = create_engine(con_URL)"
   ]
  },
  {
   "cell_type": "code",
   "execution_count": 3,
   "id": "fb3533da",
   "metadata": {},
   "outputs": [],
   "source": [
    "query = \"\"\"\n",
    "SELECT c.CustomerName AS [Customer Name], SUM(o.OrderTotal) AS [Total Order Cost]\n",
    "FROM Customers c INNER JOIN\n",
    "Orders o ON c.CustomerID = o.CustomerID\n",
    "GROUP BY c.CustomerName\n",
    "\"\"\""
   ]
  },
  {
   "cell_type": "code",
   "execution_count": 4,
   "id": "fd0fa423",
   "metadata": {},
   "outputs": [
    {
     "data": {
      "text/html": [
       "<div>\n",
       "<style scoped>\n",
       "    .dataframe tbody tr th:only-of-type {\n",
       "        vertical-align: middle;\n",
       "    }\n",
       "\n",
       "    .dataframe tbody tr th {\n",
       "        vertical-align: top;\n",
       "    }\n",
       "\n",
       "    .dataframe thead th {\n",
       "        text-align: right;\n",
       "    }\n",
       "</style>\n",
       "<table border=\"1\" class=\"dataframe\">\n",
       "  <thead>\n",
       "    <tr style=\"text-align: right;\">\n",
       "      <th></th>\n",
       "      <th>Customer Name</th>\n",
       "      <th>Total Order Cost</th>\n",
       "    </tr>\n",
       "  </thead>\n",
       "  <tbody>\n",
       "    <tr>\n",
       "      <th>0</th>\n",
       "      <td>ABC Groceries</td>\n",
       "      <td>14870.0</td>\n",
       "    </tr>\n",
       "    <tr>\n",
       "      <th>1</th>\n",
       "      <td>ACME Bites</td>\n",
       "      <td>14706.0</td>\n",
       "    </tr>\n",
       "    <tr>\n",
       "      <th>2</th>\n",
       "      <td>Park &amp; Shop Convenience Stores</td>\n",
       "      <td>17435.0</td>\n",
       "    </tr>\n",
       "    <tr>\n",
       "      <th>3</th>\n",
       "      <td>Tres Delicious</td>\n",
       "      <td>8418.0</td>\n",
       "    </tr>\n",
       "    <tr>\n",
       "      <th>4</th>\n",
       "      <td>Wholesome Foods</td>\n",
       "      <td>10462.0</td>\n",
       "    </tr>\n",
       "  </tbody>\n",
       "</table>\n",
       "</div>"
      ],
      "text/plain": [
       "                    Customer Name  Total Order Cost\n",
       "0                   ABC Groceries           14870.0\n",
       "1                      ACME Bites           14706.0\n",
       "2  Park & Shop Convenience Stores           17435.0\n",
       "3                  Tres Delicious            8418.0\n",
       "4                 Wholesome Foods           10462.0"
      ]
     },
     "execution_count": 4,
     "metadata": {},
     "output_type": "execute_result"
    }
   ],
   "source": [
    "df = pd.read_sql_query(query, engine)\n",
    "df"
   ]
  },
  {
   "cell_type": "code",
   "execution_count": 5,
   "id": "59ee4b95",
   "metadata": {},
   "outputs": [],
   "source": [
    "import matplotlib.pyplot as plt"
   ]
  },
  {
   "cell_type": "code",
   "execution_count": 6,
   "id": "3aa85a8f",
   "metadata": {},
   "outputs": [
    {
     "data": {
      "image/png": "[encoded data removed]",
      "text/plain": [
       "<Figure size 576x360 with 1 Axes>"
      ]
     },
     "metadata": {
      "needs_background": "light"
     },
     "output_type": "display_data"
    }
   ],
   "source": [
    "fig = plt.figure(figsize=(8,5))\n",
    "customers = df.iloc[:,0].tolist()\n",
    "total = df.iloc[:,1].tolist()\n",
    "plt.bar(customers , total, color='#ef4056' , width=0.4)\n",
    "plt.xlabel(\"Costumer Names\")\n",
    "plt.ylabel(\"Total Orders Cost\")\n",
    "plt.title(\"Total Order Cost By Costumers\")\n",
    "plt.show()"
   ]
  },
  {
   "cell_type": "code",
   "execution_count": 7,
   "id": "710eb932",
   "metadata": {},
   "outputs": [],
   "source": [
    "fig.savefig('plot.eps' , format='eps')"
   ]
  }
 ],
 "metadata": {
  "kernelspec": {
   "display_name": "Python 3 (ipykernel)",
   "language": "python",
   "name": "python3"
  },
  "language_info": {
   "codemirror_mode": {
    "name": "ipython",
    "version": 3
   },
   "file_extension": ".py",
   "mimetype": "text/x-python",
   "name": "python",
   "nbconvert_exporter": "python",
   "pygments_lexer": "ipython3",
   "version": "3.10.2"
  }
 },
 "nbformat": 4,
 "nbformat_minor": 5
}
